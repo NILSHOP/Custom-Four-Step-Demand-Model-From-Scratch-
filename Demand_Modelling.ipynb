{
  "nbformat": 4,
  "nbformat_minor": 0,
  "metadata": {
    "colab": {
      "provenance": []
    },
    "kernelspec": {
      "name": "python3",
      "display_name": "Python 3"
    },
    "language_info": {
      "name": "python"
    }
  },
  "cells": [
    {
      "cell_type": "markdown",
      "source": [
        "# Four-Step Travel Demand Modeling for a Synthetic City with 5 Zones\n",
        "\n",
        "**Author**: Md. Muhtashim Shahrier  \n",
        "**Date**: March 2025  \n"
      ],
      "metadata": {
        "id": "I4l4wes30TPa"
      }
    },
    {
      "cell_type": "markdown",
      "source": [
        "## Overview\n",
        "\n",
        "This notebook implements the complete four-step urban transportation modeling process for a synthetic 5-zone city. It includes:\n",
        "\n",
        "1. **Trip Generation** – Using regression-based equations to estimate productions and attractions based on synthetic socio-economic data.\n",
        "2. **Trip Distribution** – Applying a doubly-constrained gravity model with travel time impedance and iterative balancing.\n",
        "3. **Mode Choice** – Estimating mode shares using a simple utility-based model.\n",
        "4. **Traffic Assignment** – Assigning trips to network links using all-or-nothing or shortest-path algorithms.\n",
        "\n",
        "Key features:\n",
        "- Fully synthetic dataset\n",
        "- Custom impedance function: `f(cij) = 1 / tij²`\n",
        "- Convergence criteria to balance O-D matrix\n",
        "- Modular code structure with clear documentation\n",
        "\n",
        "The project is intended as a demonstration of theoretical understanding and practical implementation of the four-step modeling framework, commonly taught in Urban Transport Planning courses like CE 457 at BUET.\n",
        "\n",
        "The idea for this project came from a term final exam question in CE 457 (Transport Planning). I extended it by completing all four modeling steps and implementing it in Python.\n"
      ],
      "metadata": {
        "id": "GcRaBWQEay33"
      }
    },
    {
      "cell_type": "markdown",
      "source": [
        "## Setup and Imports\n",
        "\n",
        "All necessary Python libraries are imported in this section. These include:\n",
        "\n",
        "- `pandas` and `numpy` for data manipulation\n",
        "- `networkx` for any network-based operations (used later in traffic assignment)\n",
        "- `matplotlib` for optional visualizations\n"
      ],
      "metadata": {
        "id": "loGBoe3-cfQt"
      }
    },
    {
      "cell_type": "code",
      "source": [
        "import pandas as pd\n",
        "import numpy as np\n",
        "import networkx as nx\n",
        "import matplotlib.pyplot as plt"
      ],
      "metadata": {
        "id": "QVWVZS4tWh4-"
      },
      "execution_count": null,
      "outputs": []
    },
    {
      "cell_type": "markdown",
      "source": [
        "## Trip Generation\n",
        "\n",
        "In this section, I have created a synthetic dataset for 5 zones using the following socio-economic indicators:\n",
        "\n",
        "- Number of cars\n",
        "- Number of households\n",
        "- Employment\n",
        "- Commercial area (sq. meters)\n",
        "\n",
        "The goal is to estimate trip **productions** and **attractions** using linear regression-style equations commonly used in trip generation modeling.\n",
        "\n",
        "The equations used are:\n",
        "\n",
        "- **Production**:  \n",
        " Pi = 30 + 2 × (Number of Cars) + 1 × (Number of Households)\n",
        "- **Attraction**:  \n",
        "  Aj = 10 + 1.4 × (Employment) + 0.04 × (Commercial Area)\n",
        "\n",
        "The output below shows the computed production and attraction values for each zone based on these equations.\n",
        "\n"
      ],
      "metadata": {
        "id": "Hw1Lxm3bcjgU"
      }
    },
    {
      "cell_type": "code",
      "source": [
        "# Socioeconomic Data of the 5 Zones\n",
        "raw_data = {\n",
        "    'Number of Cars' : [280, 220, 200, 180, 190],\n",
        "    'Number of Households' : [200, 150, 140, 130, 110],\n",
        "    'Employment' : [420, 560, 500, 210, 220],\n",
        "    'Commercial Area' : [4100, 800, 700, 500, 600]\n",
        "}\n",
        "\n",
        "df = pd.DataFrame(raw_data, index = [\"Zone A\", \"Zone B\", \"Zone C\", \"Zone D\", \"Zone E\"])\n",
        "\n",
        "# Calculations of Productions and Attractions\n",
        "df[\"Productions\"] = 30 + 2 * df[\"Number of Cars\"] + df[\"Number of Households\"]\n",
        "df[\"Attractions\"] = 10 + 1.4 * df[\"Employment\"] + 0.04 * df[\"Commercial Area\"]\n",
        "df[\"Productions\"] = df[\"Productions\"].astype(\"float\")\n",
        "df[\"Attractions\"] = df[\"Attractions\"].astype(\"float\")\n",
        "df"
      ],
      "metadata": {
        "colab": {
          "base_uri": "https://localhost:8080/",
          "height": 206
        },
        "id": "iWTifk_VDo7y",
        "outputId": "2beac431-a0b4-46fe-8abf-2a0569af70f1"
      },
      "execution_count": null,
      "outputs": [
        {
          "output_type": "execute_result",
          "data": {
            "text/plain": [
              "        Number of Cars  Number of Households  Employment  Commercial Area  \\\n",
              "Zone A             280                   200         420             4100   \n",
              "Zone B             220                   150         560              800   \n",
              "Zone C             200                   140         500              700   \n",
              "Zone D             180                   130         210              500   \n",
              "Zone E             190                   110         220              600   \n",
              "\n",
              "        Productions  Attractions  \n",
              "Zone A        790.0        762.0  \n",
              "Zone B        620.0        826.0  \n",
              "Zone C        570.0        738.0  \n",
              "Zone D        520.0        324.0  \n",
              "Zone E        520.0        342.0  "
            ],
            "text/html": [
              "\n",
              "  <div id=\"df-b363b87d-bf06-4069-8002-7aaf173dfc27\" class=\"colab-df-container\">\n",
              "    <div>\n",
              "<style scoped>\n",
              "    .dataframe tbody tr th:only-of-type {\n",
              "        vertical-align: middle;\n",
              "    }\n",
              "\n",
              "    .dataframe tbody tr th {\n",
              "        vertical-align: top;\n",
              "    }\n",
              "\n",
              "    .dataframe thead th {\n",
              "        text-align: right;\n",
              "    }\n",
              "</style>\n",
              "<table border=\"1\" class=\"dataframe\">\n",
              "  <thead>\n",
              "    <tr style=\"text-align: right;\">\n",
              "      <th></th>\n",
              "      <th>Number of Cars</th>\n",
              "      <th>Number of Households</th>\n",
              "      <th>Employment</th>\n",
              "      <th>Commercial Area</th>\n",
              "      <th>Productions</th>\n",
              "      <th>Attractions</th>\n",
              "    </tr>\n",
              "  </thead>\n",
              "  <tbody>\n",
              "    <tr>\n",
              "      <th>Zone A</th>\n",
              "      <td>280</td>\n",
              "      <td>200</td>\n",
              "      <td>420</td>\n",
              "      <td>4100</td>\n",
              "      <td>790.0</td>\n",
              "      <td>762.0</td>\n",
              "    </tr>\n",
              "    <tr>\n",
              "      <th>Zone B</th>\n",
              "      <td>220</td>\n",
              "      <td>150</td>\n",
              "      <td>560</td>\n",
              "      <td>800</td>\n",
              "      <td>620.0</td>\n",
              "      <td>826.0</td>\n",
              "    </tr>\n",
              "    <tr>\n",
              "      <th>Zone C</th>\n",
              "      <td>200</td>\n",
              "      <td>140</td>\n",
              "      <td>500</td>\n",
              "      <td>700</td>\n",
              "      <td>570.0</td>\n",
              "      <td>738.0</td>\n",
              "    </tr>\n",
              "    <tr>\n",
              "      <th>Zone D</th>\n",
              "      <td>180</td>\n",
              "      <td>130</td>\n",
              "      <td>210</td>\n",
              "      <td>500</td>\n",
              "      <td>520.0</td>\n",
              "      <td>324.0</td>\n",
              "    </tr>\n",
              "    <tr>\n",
              "      <th>Zone E</th>\n",
              "      <td>190</td>\n",
              "      <td>110</td>\n",
              "      <td>220</td>\n",
              "      <td>600</td>\n",
              "      <td>520.0</td>\n",
              "      <td>342.0</td>\n",
              "    </tr>\n",
              "  </tbody>\n",
              "</table>\n",
              "</div>\n",
              "    <div class=\"colab-df-buttons\">\n",
              "\n",
              "  <div class=\"colab-df-container\">\n",
              "    <button class=\"colab-df-convert\" onclick=\"convertToInteractive('df-b363b87d-bf06-4069-8002-7aaf173dfc27')\"\n",
              "            title=\"Convert this dataframe to an interactive table.\"\n",
              "            style=\"display:none;\">\n",
              "\n",
              "  <svg xmlns=\"http://www.w3.org/2000/svg\" height=\"24px\" viewBox=\"0 -960 960 960\">\n",
              "    <path d=\"M120-120v-720h720v720H120Zm60-500h600v-160H180v160Zm220 220h160v-160H400v160Zm0 220h160v-160H400v160ZM180-400h160v-160H180v160Zm440 0h160v-160H620v160ZM180-180h160v-160H180v160Zm440 0h160v-160H620v160Z\"/>\n",
              "  </svg>\n",
              "    </button>\n",
              "\n",
              "  <style>\n",
              "    .colab-df-container {\n",
              "      display:flex;\n",
              "      gap: 12px;\n",
              "    }\n",
              "\n",
              "    .colab-df-convert {\n",
              "      background-color: #E8F0FE;\n",
              "      border: none;\n",
              "      border-radius: 50%;\n",
              "      cursor: pointer;\n",
              "      display: none;\n",
              "      fill: #1967D2;\n",
              "      height: 32px;\n",
              "      padding: 0 0 0 0;\n",
              "      width: 32px;\n",
              "    }\n",
              "\n",
              "    .colab-df-convert:hover {\n",
              "      background-color: #E2EBFA;\n",
              "      box-shadow: 0px 1px 2px rgba(60, 64, 67, 0.3), 0px 1px 3px 1px rgba(60, 64, 67, 0.15);\n",
              "      fill: #174EA6;\n",
              "    }\n",
              "\n",
              "    .colab-df-buttons div {\n",
              "      margin-bottom: 4px;\n",
              "    }\n",
              "\n",
              "    [theme=dark] .colab-df-convert {\n",
              "      background-color: #3B4455;\n",
              "      fill: #D2E3FC;\n",
              "    }\n",
              "\n",
              "    [theme=dark] .colab-df-convert:hover {\n",
              "      background-color: #434B5C;\n",
              "      box-shadow: 0px 1px 3px 1px rgba(0, 0, 0, 0.15);\n",
              "      filter: drop-shadow(0px 1px 2px rgba(0, 0, 0, 0.3));\n",
              "      fill: #FFFFFF;\n",
              "    }\n",
              "  </style>\n",
              "\n",
              "    <script>\n",
              "      const buttonEl =\n",
              "        document.querySelector('#df-b363b87d-bf06-4069-8002-7aaf173dfc27 button.colab-df-convert');\n",
              "      buttonEl.style.display =\n",
              "        google.colab.kernel.accessAllowed ? 'block' : 'none';\n",
              "\n",
              "      async function convertToInteractive(key) {\n",
              "        const element = document.querySelector('#df-b363b87d-bf06-4069-8002-7aaf173dfc27');\n",
              "        const dataTable =\n",
              "          await google.colab.kernel.invokeFunction('convertToInteractive',\n",
              "                                                    [key], {});\n",
              "        if (!dataTable) return;\n",
              "\n",
              "        const docLinkHtml = 'Like what you see? Visit the ' +\n",
              "          '<a target=\"_blank\" href=https://colab.research.google.com/notebooks/data_table.ipynb>data table notebook</a>'\n",
              "          + ' to learn more about interactive tables.';\n",
              "        element.innerHTML = '';\n",
              "        dataTable['output_type'] = 'display_data';\n",
              "        await google.colab.output.renderOutput(dataTable, element);\n",
              "        const docLink = document.createElement('div');\n",
              "        docLink.innerHTML = docLinkHtml;\n",
              "        element.appendChild(docLink);\n",
              "      }\n",
              "    </script>\n",
              "  </div>\n",
              "\n",
              "\n",
              "<div id=\"df-80a5404a-e4ad-4d3a-8c77-1534d5f88f90\">\n",
              "  <button class=\"colab-df-quickchart\" onclick=\"quickchart('df-80a5404a-e4ad-4d3a-8c77-1534d5f88f90')\"\n",
              "            title=\"Suggest charts\"\n",
              "            style=\"display:none;\">\n",
              "\n",
              "<svg xmlns=\"http://www.w3.org/2000/svg\" height=\"24px\"viewBox=\"0 0 24 24\"\n",
              "     width=\"24px\">\n",
              "    <g>\n",
              "        <path d=\"M19 3H5c-1.1 0-2 .9-2 2v14c0 1.1.9 2 2 2h14c1.1 0 2-.9 2-2V5c0-1.1-.9-2-2-2zM9 17H7v-7h2v7zm4 0h-2V7h2v10zm4 0h-2v-4h2v4z\"/>\n",
              "    </g>\n",
              "</svg>\n",
              "  </button>\n",
              "\n",
              "<style>\n",
              "  .colab-df-quickchart {\n",
              "      --bg-color: #E8F0FE;\n",
              "      --fill-color: #1967D2;\n",
              "      --hover-bg-color: #E2EBFA;\n",
              "      --hover-fill-color: #174EA6;\n",
              "      --disabled-fill-color: #AAA;\n",
              "      --disabled-bg-color: #DDD;\n",
              "  }\n",
              "\n",
              "  [theme=dark] .colab-df-quickchart {\n",
              "      --bg-color: #3B4455;\n",
              "      --fill-color: #D2E3FC;\n",
              "      --hover-bg-color: #434B5C;\n",
              "      --hover-fill-color: #FFFFFF;\n",
              "      --disabled-bg-color: #3B4455;\n",
              "      --disabled-fill-color: #666;\n",
              "  }\n",
              "\n",
              "  .colab-df-quickchart {\n",
              "    background-color: var(--bg-color);\n",
              "    border: none;\n",
              "    border-radius: 50%;\n",
              "    cursor: pointer;\n",
              "    display: none;\n",
              "    fill: var(--fill-color);\n",
              "    height: 32px;\n",
              "    padding: 0;\n",
              "    width: 32px;\n",
              "  }\n",
              "\n",
              "  .colab-df-quickchart:hover {\n",
              "    background-color: var(--hover-bg-color);\n",
              "    box-shadow: 0 1px 2px rgba(60, 64, 67, 0.3), 0 1px 3px 1px rgba(60, 64, 67, 0.15);\n",
              "    fill: var(--button-hover-fill-color);\n",
              "  }\n",
              "\n",
              "  .colab-df-quickchart-complete:disabled,\n",
              "  .colab-df-quickchart-complete:disabled:hover {\n",
              "    background-color: var(--disabled-bg-color);\n",
              "    fill: var(--disabled-fill-color);\n",
              "    box-shadow: none;\n",
              "  }\n",
              "\n",
              "  .colab-df-spinner {\n",
              "    border: 2px solid var(--fill-color);\n",
              "    border-color: transparent;\n",
              "    border-bottom-color: var(--fill-color);\n",
              "    animation:\n",
              "      spin 1s steps(1) infinite;\n",
              "  }\n",
              "\n",
              "  @keyframes spin {\n",
              "    0% {\n",
              "      border-color: transparent;\n",
              "      border-bottom-color: var(--fill-color);\n",
              "      border-left-color: var(--fill-color);\n",
              "    }\n",
              "    20% {\n",
              "      border-color: transparent;\n",
              "      border-left-color: var(--fill-color);\n",
              "      border-top-color: var(--fill-color);\n",
              "    }\n",
              "    30% {\n",
              "      border-color: transparent;\n",
              "      border-left-color: var(--fill-color);\n",
              "      border-top-color: var(--fill-color);\n",
              "      border-right-color: var(--fill-color);\n",
              "    }\n",
              "    40% {\n",
              "      border-color: transparent;\n",
              "      border-right-color: var(--fill-color);\n",
              "      border-top-color: var(--fill-color);\n",
              "    }\n",
              "    60% {\n",
              "      border-color: transparent;\n",
              "      border-right-color: var(--fill-color);\n",
              "    }\n",
              "    80% {\n",
              "      border-color: transparent;\n",
              "      border-right-color: var(--fill-color);\n",
              "      border-bottom-color: var(--fill-color);\n",
              "    }\n",
              "    90% {\n",
              "      border-color: transparent;\n",
              "      border-bottom-color: var(--fill-color);\n",
              "    }\n",
              "  }\n",
              "</style>\n",
              "\n",
              "  <script>\n",
              "    async function quickchart(key) {\n",
              "      const quickchartButtonEl =\n",
              "        document.querySelector('#' + key + ' button');\n",
              "      quickchartButtonEl.disabled = true;  // To prevent multiple clicks.\n",
              "      quickchartButtonEl.classList.add('colab-df-spinner');\n",
              "      try {\n",
              "        const charts = await google.colab.kernel.invokeFunction(\n",
              "            'suggestCharts', [key], {});\n",
              "      } catch (error) {\n",
              "        console.error('Error during call to suggestCharts:', error);\n",
              "      }\n",
              "      quickchartButtonEl.classList.remove('colab-df-spinner');\n",
              "      quickchartButtonEl.classList.add('colab-df-quickchart-complete');\n",
              "    }\n",
              "    (() => {\n",
              "      let quickchartButtonEl =\n",
              "        document.querySelector('#df-80a5404a-e4ad-4d3a-8c77-1534d5f88f90 button');\n",
              "      quickchartButtonEl.style.display =\n",
              "        google.colab.kernel.accessAllowed ? 'block' : 'none';\n",
              "    })();\n",
              "  </script>\n",
              "</div>\n",
              "\n",
              "  <div id=\"id_dedd8484-d7ea-4c30-9d44-aa022888c075\">\n",
              "    <style>\n",
              "      .colab-df-generate {\n",
              "        background-color: #E8F0FE;\n",
              "        border: none;\n",
              "        border-radius: 50%;\n",
              "        cursor: pointer;\n",
              "        display: none;\n",
              "        fill: #1967D2;\n",
              "        height: 32px;\n",
              "        padding: 0 0 0 0;\n",
              "        width: 32px;\n",
              "      }\n",
              "\n",
              "      .colab-df-generate:hover {\n",
              "        background-color: #E2EBFA;\n",
              "        box-shadow: 0px 1px 2px rgba(60, 64, 67, 0.3), 0px 1px 3px 1px rgba(60, 64, 67, 0.15);\n",
              "        fill: #174EA6;\n",
              "      }\n",
              "\n",
              "      [theme=dark] .colab-df-generate {\n",
              "        background-color: #3B4455;\n",
              "        fill: #D2E3FC;\n",
              "      }\n",
              "\n",
              "      [theme=dark] .colab-df-generate:hover {\n",
              "        background-color: #434B5C;\n",
              "        box-shadow: 0px 1px 3px 1px rgba(0, 0, 0, 0.15);\n",
              "        filter: drop-shadow(0px 1px 2px rgba(0, 0, 0, 0.3));\n",
              "        fill: #FFFFFF;\n",
              "      }\n",
              "    </style>\n",
              "    <button class=\"colab-df-generate\" onclick=\"generateWithVariable('df')\"\n",
              "            title=\"Generate code using this dataframe.\"\n",
              "            style=\"display:none;\">\n",
              "\n",
              "  <svg xmlns=\"http://www.w3.org/2000/svg\" height=\"24px\"viewBox=\"0 0 24 24\"\n",
              "       width=\"24px\">\n",
              "    <path d=\"M7,19H8.4L18.45,9,17,7.55,7,17.6ZM5,21V16.75L18.45,3.32a2,2,0,0,1,2.83,0l1.4,1.43a1.91,1.91,0,0,1,.58,1.4,1.91,1.91,0,0,1-.58,1.4L9.25,21ZM18.45,9,17,7.55Zm-12,3A5.31,5.31,0,0,0,4.9,8.1,5.31,5.31,0,0,0,1,6.5,5.31,5.31,0,0,0,4.9,4.9,5.31,5.31,0,0,0,6.5,1,5.31,5.31,0,0,0,8.1,4.9,5.31,5.31,0,0,0,12,6.5,5.46,5.46,0,0,0,6.5,12Z\"/>\n",
              "  </svg>\n",
              "    </button>\n",
              "    <script>\n",
              "      (() => {\n",
              "      const buttonEl =\n",
              "        document.querySelector('#id_dedd8484-d7ea-4c30-9d44-aa022888c075 button.colab-df-generate');\n",
              "      buttonEl.style.display =\n",
              "        google.colab.kernel.accessAllowed ? 'block' : 'none';\n",
              "\n",
              "      buttonEl.onclick = () => {\n",
              "        google.colab.notebook.generateWithVariable('df');\n",
              "      }\n",
              "      })();\n",
              "    </script>\n",
              "  </div>\n",
              "\n",
              "    </div>\n",
              "  </div>\n"
            ],
            "application/vnd.google.colaboratory.intrinsic+json": {
              "type": "dataframe",
              "variable_name": "df",
              "summary": "{\n  \"name\": \"df\",\n  \"rows\": 5,\n  \"fields\": [\n    {\n      \"column\": \"Number of Cars\",\n      \"properties\": {\n        \"dtype\": \"number\",\n        \"std\": 39,\n        \"min\": 180,\n        \"max\": 280,\n        \"num_unique_values\": 5,\n        \"samples\": [\n          220,\n          190,\n          200\n        ],\n        \"semantic_type\": \"\",\n        \"description\": \"\"\n      }\n    },\n    {\n      \"column\": \"Number of Households\",\n      \"properties\": {\n        \"dtype\": \"number\",\n        \"std\": 33,\n        \"min\": 110,\n        \"max\": 200,\n        \"num_unique_values\": 5,\n        \"samples\": [\n          150,\n          110,\n          140\n        ],\n        \"semantic_type\": \"\",\n        \"description\": \"\"\n      }\n    },\n    {\n      \"column\": \"Employment\",\n      \"properties\": {\n        \"dtype\": \"number\",\n        \"std\": 160,\n        \"min\": 210,\n        \"max\": 560,\n        \"num_unique_values\": 5,\n        \"samples\": [\n          560,\n          220,\n          500\n        ],\n        \"semantic_type\": \"\",\n        \"description\": \"\"\n      }\n    },\n    {\n      \"column\": \"Commercial Area\",\n      \"properties\": {\n        \"dtype\": \"number\",\n        \"std\": 1546,\n        \"min\": 500,\n        \"max\": 4100,\n        \"num_unique_values\": 5,\n        \"samples\": [\n          800,\n          600,\n          700\n        ],\n        \"semantic_type\": \"\",\n        \"description\": \"\"\n      }\n    },\n    {\n      \"column\": \"Productions\",\n      \"properties\": {\n        \"dtype\": \"number\",\n        \"std\": 111.93748255164576,\n        \"min\": 520.0,\n        \"max\": 790.0,\n        \"num_unique_values\": 4,\n        \"samples\": [\n          620.0,\n          520.0,\n          790.0\n        ],\n        \"semantic_type\": \"\",\n        \"description\": \"\"\n      }\n    },\n    {\n      \"column\": \"Attractions\",\n      \"properties\": {\n        \"dtype\": \"number\",\n        \"std\": 244.48476435148262,\n        \"min\": 324.0,\n        \"max\": 826.0,\n        \"num_unique_values\": 5,\n        \"samples\": [\n          826.0,\n          342.0,\n          738.0\n        ],\n        \"semantic_type\": \"\",\n        \"description\": \"\"\n      }\n    }\n  ]\n}"
            }
          },
          "metadata": {},
          "execution_count": 15
        }
      ]
    },
    {
      "cell_type": "markdown",
      "source": [
        "### Summary\n",
        "\n",
        "Total Productions: 3020\n",
        "Total Attractions: 2974\n",
        "\n",
        "The total productions and attractions are nearly balanced, allowing for smooth transition into the next step: trip distribution.\n"
      ],
      "metadata": {
        "id": "mIwIcRp8fdnS"
      }
    },
    {
      "cell_type": "markdown",
      "source": [
        "## Trip Distribution\n",
        "\n",
        "In this section, I have applied the **doubly-constrained gravity model** to estimate the origin-destination (O-D) trip matrix based on the previously computed productions and attractions.\n",
        "\n",
        "- The impedance function is defined as:\n",
        "f(cij) = 1 / (tij)^2\n",
        "  \n",
        "  where tij is the travel time between zones \\( i \\) and \\( j \\)\n",
        "\n",
        "- A synthetic travel time matrix is used to calculate the impedance between zones.\n",
        "\n",
        "- An iterative balancing process is used to satisfy both row (production) and column (attraction) constraints, ensuring that the marginal totals converge within a small threshold (epsilon = 0.05).\n",
        "\n",
        "The final output is a balanced O-D matrix that aligns with the specified productions and attractions across all zones.\n"
      ],
      "metadata": {
        "id": "3Q51OfxrpEAt"
      }
    },
    {
      "cell_type": "code",
      "source": [
        "# Extracting productions and attractions\n",
        "Oi = np.array(df[\"Productions\"])\n",
        "Dj = np.array(df[\"Attractions\"])\n",
        "\n",
        "# Defining synthetic travel time matrix\n",
        "Travel_time = np.array([[2,12,7,8,14],\n",
        "                       [13,3,19,6,10],\n",
        "                       [9,16,4,7,12],\n",
        "                       [8,6,7,3,5],\n",
        "                       [14,10,12,5,4]])\n"
      ],
      "metadata": {
        "id": "_BV576FFD7tI"
      },
      "execution_count": null,
      "outputs": []
    },
    {
      "cell_type": "code",
      "source": [
        "# Calculate impedance function: f(cij) = 1 / tij²\n",
        "f = 1/Travel_time**2\n",
        "f = np.round(f, 4)\n",
        "print(f)"
      ],
      "metadata": {
        "colab": {
          "base_uri": "https://localhost:8080/"
        },
        "id": "CBosD6YKMPoJ",
        "outputId": "f625fd7d-210b-480a-9954-d01212f61dd0"
      },
      "execution_count": null,
      "outputs": [
        {
          "output_type": "stream",
          "name": "stdout",
          "text": [
            "[[0.25   0.0069 0.0204 0.0156 0.0051]\n",
            " [0.0059 0.1111 0.0028 0.0278 0.01  ]\n",
            " [0.0123 0.0039 0.0625 0.0204 0.0069]\n",
            " [0.0156 0.0278 0.0204 0.1111 0.04  ]\n",
            " [0.0051 0.01   0.0069 0.04   0.0625]]\n"
          ]
        }
      ]
    },
    {
      "cell_type": "code",
      "source": [
        "# Balancing productions and attractions by upscaling the lower one\n",
        "if np.sum(Oi) > np.sum(Dj):\n",
        "    Dj *= np.sum(Oi) / np.sum(Dj)\n",
        "else:\n",
        "    Oi *= np.sum(Dj) / np.sum(Oi)"
      ],
      "metadata": {
        "id": "y7VMbSXdnuBN"
      },
      "execution_count": null,
      "outputs": []
    },
    {
      "cell_type": "code",
      "source": [
        "# Doubly-constrained gravity model with iterative balancing\n",
        "T = np.zeros((len(Oi), len(Dj)), dtype=float)\n",
        "Djx = Dj.copy()\n",
        "R = np.ones(len(Dj))\n",
        "epsilon = 0.05\n",
        "\n",
        "while True:\n",
        "    for i in range(len(Oi)):\n",
        "        m = 0\n",
        "        for j in range(len(Dj)):\n",
        "            m += Djx[j] * f[i][j]\n",
        "        for j in range(len(Dj)):\n",
        "            T[i][j] = Oi[i] * Djx[j] * f[i][j] / m\n",
        "\n",
        "    for j in range(len(Dj)):\n",
        "        col_sum = sum(T[i][j] for i in range(len(Oi)))\n",
        "        R[j] = Dj[j] / col_sum\n",
        "\n",
        "    if np.all(np.abs(R - 1) < epsilon):\n",
        "        break\n",
        "\n",
        "    Djx *= R\n",
        "\n",
        "# Converting final matrix to labeled DataFrame\n",
        "zone_labels = df.index\n",
        "T_df = pd.DataFrame(np.round(T), index=zone_labels, columns=zone_labels)\n",
        "\n",
        "print(\"Final Trip Distribution Matrix (T):\")\n",
        "print(T_df)\n"
      ],
      "metadata": {
        "colab": {
          "base_uri": "https://localhost:8080/"
        },
        "id": "jnD_pKlpyzOy",
        "outputId": "18556811-5e03-45b6-d40d-e78aa82b0fdf"
      },
      "execution_count": null,
      "outputs": [
        {
          "output_type": "stream",
          "name": "stdout",
          "text": [
            "Final Trip Distribution Matrix (T):\n",
            "        Zone A  Zone B  Zone C  Zone D  Zone E\n",
            "Zone A   650.0    28.0    89.0    16.0     8.0\n",
            "Zone B    19.0   534.0    15.0    34.0    18.0\n",
            "Zone C    52.0    25.0   442.0    34.0    17.0\n",
            "Zone D    51.0   139.0   111.0   143.0    76.0\n",
            "Zone E    32.0    95.0    71.0    97.0   225.0\n"
          ]
        }
      ]
    },
    {
      "cell_type": "markdown",
      "source": [
        "### Summary\n",
        "\n",
        "The final trip distribution matrix has been successfully computed using the doubly-constrained gravity model. The matrix balances both the total number of trips produced and attracted by each zone, while accounting for travel time-based impedance.\n",
        "\n",
        "This completes the Trip Distribution stage. The next step is Mode Choice.\n"
      ],
      "metadata": {
        "id": "aAJZEGB5r8ez"
      }
    },
    {
      "cell_type": "markdown",
      "source": [
        "## Mode Choice\n",
        "\n",
        "In this section, I have estimated the probability of travelers choosing between two modes of transportation: **Auto** and **Transit**. The choice is based on a simplified utility model using travel time and cost for each mode.\n",
        "\n",
        "The utility equations used are:\n",
        "\n",
        "- U_Auto = 2.5 - 0.5 × Cost_Auto - 0.01 × TravelTime_Auto  \n",
        "- U_Transit = -0.4 × Cost_Transit - 0.012 × TravelTime_Transit\n",
        "\n",
        "The probability of choosing Auto is given by the logit model:\n",
        "\n",
        "$$\n",
        "P_{\\text{Auto}} = \\frac{e^{U_{\\text{Auto}}}}{e^{U_{\\text{Auto}}} + e^{U_{\\text{Transit}}}}\n",
        "$$\n",
        "\n",
        "The probability of choosing Transit is:\n",
        "\n",
        "$$\n",
        "P_{\\text{Transit}} = 1 - P_{\\text{Auto}}\n",
        "$$\n",
        "\n",
        "These probabilities are applied element-wise to the O-D matrix from the previous step to split total trips into Auto and Transit trips.\n"
      ],
      "metadata": {
        "id": "88BfvHsKsD-q"
      }
    },
    {
      "cell_type": "code",
      "source": [
        "# Defining travel time and cost matrices for Auto and Transit modes (in minutes and currency units)\n",
        "TT_Auto = np.array([[4,12,7,14,9],\n",
        "                    [13,5,6,17,10],\n",
        "                    [15,5,6,12,8],\n",
        "                    [18,11,6,7,7],\n",
        "                    [10,12,9,5,6]], dtype=\"float\")\n",
        "\n",
        "CT_Auto = np.array([[0.8,1.0,1.4,1.7,1.5],\n",
        "                    [1.3,0.7,1.2,1.6,1.4],\n",
        "                    [1.5,1.0,0.9,1.5,1.3],\n",
        "                    [1.8,1.4,1.1,0.8,1.2],\n",
        "                    [1.3,1.5,1.2,1.0,0.9]], dtype=\"float\")\n",
        "\n",
        "TT_Transit = np.array([[5,5,12,18,15],\n",
        "                    [6,6,11,22,16],\n",
        "                    [20,9,7,17,13],\n",
        "                    [23,15,10,8,12],\n",
        "                    [14,17,13,8,7]], dtype=\"float\")\n",
        "\n",
        "CT_Transit = np.array([[1.2,1.5,2.0,2.2,1.9],\n",
        "                    [1.6,1.3,1.7,2.3,2.0],\n",
        "                    [2.2,1.4,1.1,1.9,1.7],\n",
        "                    [2.5,2.0,1.6,1.2,1.8],\n",
        "                    [1.7,2.1,1.6,1.4,1.1]], dtype=\"float\")\n"
      ],
      "metadata": {
        "id": "vkiQiIWW4Y_G"
      },
      "execution_count": null,
      "outputs": []
    },
    {
      "cell_type": "code",
      "source": [
        "# Converitng Matrix into labeled DataFrame\n",
        "TT_Auto_df = pd.DataFrame(TT_Auto, index=zone_labels, columns=zone_labels)\n",
        "CT_Auto_df = pd.DataFrame(CT_Auto, index=zone_labels, columns=zone_labels)\n",
        "TT_Transit_df = pd.DataFrame(TT_Transit, index=zone_labels, columns=zone_labels)\n",
        "CT_Transit_df = pd.DataFrame(CT_Transit, index=zone_labels, columns=zone_labels)\n",
        "print(\"Travel Time Matrix - Auto (minutes):\")\n",
        "print(TT_Auto_df)\n",
        "print(\"\\nCost Matrix - Auto (units):\")\n",
        "print(CT_Auto_df)\n",
        "print(\"\\nTravel Time Matrix - Transit (minutes):\")\n",
        "print(TT_Transit_df)\n",
        "print(\"\\nCost Matrix - Transit (units):\")\n",
        "print(CT_Transit_df)"
      ],
      "metadata": {
        "id": "jt3t2Rlv7PMN",
        "colab": {
          "base_uri": "https://localhost:8080/"
        },
        "outputId": "e5cce662-cd9a-48c1-fd4e-0386bd3ea0d2"
      },
      "execution_count": null,
      "outputs": [
        {
          "output_type": "stream",
          "name": "stdout",
          "text": [
            "Travel Time Matrix - Auto (minutes):\n",
            "        Zone A  Zone B  Zone C  Zone D  Zone E\n",
            "Zone A     4.0    12.0     7.0    14.0     9.0\n",
            "Zone B    13.0     5.0     6.0    17.0    10.0\n",
            "Zone C    15.0     5.0     6.0    12.0     8.0\n",
            "Zone D    18.0    11.0     6.0     7.0     7.0\n",
            "Zone E    10.0    12.0     9.0     5.0     6.0\n",
            "\n",
            "Cost Matrix - Auto (units):\n",
            "        Zone A  Zone B  Zone C  Zone D  Zone E\n",
            "Zone A     0.8     1.0     1.4     1.7     1.5\n",
            "Zone B     1.3     0.7     1.2     1.6     1.4\n",
            "Zone C     1.5     1.0     0.9     1.5     1.3\n",
            "Zone D     1.8     1.4     1.1     0.8     1.2\n",
            "Zone E     1.3     1.5     1.2     1.0     0.9\n",
            "\n",
            "Travel Time Matrix - Transit (minutes):\n",
            "        Zone A  Zone B  Zone C  Zone D  Zone E\n",
            "Zone A     5.0     5.0    12.0    18.0    15.0\n",
            "Zone B     6.0     6.0    11.0    22.0    16.0\n",
            "Zone C    20.0     9.0     7.0    17.0    13.0\n",
            "Zone D    23.0    15.0    10.0     8.0    12.0\n",
            "Zone E    14.0    17.0    13.0     8.0     7.0\n",
            "\n",
            "Cost Matrix - Transit (units):\n",
            "        Zone A  Zone B  Zone C  Zone D  Zone E\n",
            "Zone A     1.2     1.5     2.0     2.2     1.9\n",
            "Zone B     1.6     1.3     1.7     2.3     2.0\n",
            "Zone C     2.2     1.4     1.1     1.9     1.7\n",
            "Zone D     2.5     2.0     1.6     1.2     1.8\n",
            "Zone E     1.7     2.1     1.6     1.4     1.1\n"
          ]
        }
      ]
    },
    {
      "cell_type": "code",
      "source": [
        "# Calculating utilities for each mode based on cost and travel time\n",
        "U_Auto = 2.5 - 0.5 * CT_Auto - 0.01 * TT_Auto\n",
        "U_Transit = -0.4 * CT_Transit - 0.012 * TT_Transit\n",
        "\n",
        "# Converting Matrix into labeled DataFrame\n",
        "U_Auto_df = pd.DataFrame(U_Auto, index=zone_labels, columns=zone_labels)\n",
        "U_Transit_df = pd.DataFrame(U_Transit, index=zone_labels, columns=zone_labels)\n",
        "\n",
        "print(\"Utility Matrix – Auto:\")\n",
        "print(U_Auto_df)\n",
        "print(\"\\nUtility Matrix – Transit:\")\n",
        "print(U_Transit_df)"
      ],
      "metadata": {
        "id": "r-yvr2Ad76zb",
        "colab": {
          "base_uri": "https://localhost:8080/"
        },
        "outputId": "179c628a-afc1-40b7-a301-a7664a5ee2d1"
      },
      "execution_count": null,
      "outputs": [
        {
          "output_type": "stream",
          "name": "stdout",
          "text": [
            "Utility Matrix – Auto:\n",
            "        Zone A  Zone B  Zone C  Zone D  Zone E\n",
            "Zone A    2.06    1.88    1.73    1.51    1.66\n",
            "Zone B    1.72    2.10    1.84    1.53    1.70\n",
            "Zone C    1.60    1.95    1.99    1.63    1.77\n",
            "Zone D    1.42    1.69    1.89    2.03    1.83\n",
            "Zone E    1.75    1.63    1.81    1.95    1.99\n",
            "\n",
            "Utility Matrix – Transit:\n",
            "        Zone A  Zone B  Zone C  Zone D  Zone E\n",
            "Zone A  -0.540  -0.660  -0.944  -1.096  -0.940\n",
            "Zone B  -0.712  -0.592  -0.812  -1.184  -0.992\n",
            "Zone C  -1.120  -0.668  -0.524  -0.964  -0.836\n",
            "Zone D  -1.276  -0.980  -0.760  -0.576  -0.864\n",
            "Zone E  -0.848  -1.044  -0.796  -0.656  -0.524\n"
          ]
        }
      ]
    },
    {
      "cell_type": "code",
      "source": [
        "# Calculating Probabilities\n",
        "exp_Auto = np.exp(U_Auto)\n",
        "exp_Transit = np.exp(U_Transit)\n",
        "P_Auto = exp_Auto / (exp_Auto + exp_Transit) # Could have also used Softmax\n",
        "P_Transit = 1 - P_Auto\n",
        "\n",
        "# Converting Matrix into labeled DataFrame\n",
        "P_Auto_df = pd.DataFrame(P_Auto, index=zone_labels, columns=zone_labels)\n",
        "P_Transit_df = pd.DataFrame(P_Transit, index=zone_labels, columns=zone_labels)\n",
        "\n",
        "print(\"Probability Matrix – Auto:\")\n",
        "print(P_Auto_df)\n",
        "print(\"\\nProbability Matrix – Transit:\")\n",
        "print(P_Transit_df)"
      ],
      "metadata": {
        "id": "WXdl-t1FB4c4",
        "colab": {
          "base_uri": "https://localhost:8080/"
        },
        "outputId": "b37b1e67-a4e8-4307-e301-25413782ac20"
      },
      "execution_count": null,
      "outputs": [
        {
          "output_type": "stream",
          "name": "stdout",
          "text": [
            "Probability Matrix – Auto:\n",
            "          Zone A    Zone B    Zone C    Zone D    Zone E\n",
            "Zone A  0.930862  0.926899  0.935475  0.931247  0.930862\n",
            "Zone B  0.919235  0.936553  0.934134  0.937848  0.936553\n",
            "Zone C  0.938197  0.932011  0.925117  0.930474  0.931247\n",
            "Zone D  0.936790  0.935233  0.934011  0.931247  0.936672\n",
            "Zone E  0.930733  0.935475  0.931247  0.931247  0.925117\n",
            "\n",
            "Probability Matrix – Transit:\n",
            "          Zone A    Zone B    Zone C    Zone D    Zone E\n",
            "Zone A  0.069138  0.073101  0.064525  0.068753  0.069138\n",
            "Zone B  0.080765  0.063447  0.065866  0.062152  0.063447\n",
            "Zone C  0.061803  0.067989  0.074883  0.069526  0.068753\n",
            "Zone D  0.063210  0.064767  0.065989  0.068753  0.063328\n",
            "Zone E  0.069267  0.064525  0.068753  0.068753  0.074883\n"
          ]
        }
      ]
    },
    {
      "cell_type": "code",
      "source": [
        "# Spliting total trips into mode-specific matrix\n",
        "T_Auto = T * P_Auto\n",
        "T_Transit = T * P_Transit\n",
        "\n",
        "# Converting Matrix into labeled DataFrame\n",
        "T_Auto_df = pd.DataFrame(np.round(T_Auto), index=zone_labels, columns=zone_labels)\n",
        "T_Transit_df = pd.DataFrame(np.round(T_Transit), index=zone_labels, columns=zone_labels)\n",
        "\n",
        "print(\"Mode-Specific OD Matrix – Auto:\")\n",
        "print(T_Auto_df)\n",
        "print(\"\\nMode-Specific OD Matrix – Transit:\")\n",
        "print(T_Transit_df)\n"
      ],
      "metadata": {
        "id": "0dh72uDsCZUi",
        "colab": {
          "base_uri": "https://localhost:8080/"
        },
        "outputId": "c41f49bd-2090-4176-f8c2-8010690abb82"
      },
      "execution_count": null,
      "outputs": [
        {
          "output_type": "stream",
          "name": "stdout",
          "text": [
            "Mode-Specific OD Matrix – Auto:\n",
            "        Zone A  Zone B  Zone C  Zone D  Zone E\n",
            "Zone A   605.0    25.0    83.0    15.0     7.0\n",
            "Zone B    17.0   500.0    14.0    32.0    17.0\n",
            "Zone C    49.0    24.0   409.0    32.0    16.0\n",
            "Zone D    48.0   130.0   104.0   133.0    71.0\n",
            "Zone E    29.0    89.0    66.0    91.0   208.0\n",
            "\n",
            "Mode-Specific OD Matrix – Transit:\n",
            "        Zone A  Zone B  Zone C  Zone D  Zone E\n",
            "Zone A    45.0     2.0     6.0     1.0     1.0\n",
            "Zone B     1.0    34.0     1.0     2.0     1.0\n",
            "Zone C     3.0     2.0    33.0     2.0     1.0\n",
            "Zone D     3.0     9.0     7.0    10.0     5.0\n",
            "Zone E     2.0     6.0     5.0     7.0    17.0\n"
          ]
        }
      ]
    },
    {
      "cell_type": "markdown",
      "source": [
        "### Summary\n",
        "\n",
        "The total O-D matrix has been split into Auto and Transit components using a simple utility-based mode choice model. These mode-specific matrices reflect relative travel cost and time, providing the basis for mode-sensitive traffic assignment in the next step.\n"
      ],
      "metadata": {
        "id": "c6ujrjb6vRmg"
      }
    },
    {
      "cell_type": "markdown",
      "source": [
        "## Traffic Assignment\n",
        "\n",
        "In this section, I have performed an **all-or-nothing traffic assignment** using the Auto mode O-D matrix. The goal is to assign trip flows to network links based on the shortest path (minimum travel time) between origin-destination pairs.\n",
        "\n",
        "- The O-D matrix is preprocessed by rounding and setting diagonal elements to zero (no intra-zonal trips).\n",
        "- A synthetic undirected network is created using NetworkX, with specified travel times and link capacities.\n",
        "- For each O-D pair, trips are assigned to the shortest time path using Dijkstra's algorithm.\n",
        "- Total flows on each edge are computed by summing demands for all paths that include that edge.\n",
        "\n",
        "Finally, the results are visualized with varying edge thickness to represent flow volume.\n"
      ],
      "metadata": {
        "id": "SEM1nWyHwH-x"
      }
    },
    {
      "cell_type": "code",
      "source": [
        "# Preparing OD Matrix for Traffic Assignment\n",
        "Traffic_Assignment = np.copy(np.round(T_Auto))\n",
        "np.fill_diagonal(Traffic_Assignment, 0)\n",
        "print(Traffic_Assignment)"
      ],
      "metadata": {
        "colab": {
          "base_uri": "https://localhost:8080/"
        },
        "id": "iDlmGwrxqUgY",
        "outputId": "8c3fa185-ceee-4714-def0-a95aa05f23a4"
      },
      "execution_count": null,
      "outputs": [
        {
          "output_type": "stream",
          "name": "stdout",
          "text": [
            "[[  0.  25.  83.  15.   7.]\n",
            " [ 17.   0.  14.  32.  17.]\n",
            " [ 49.  24.   0.  32.  16.]\n",
            " [ 48. 130. 104.   0.  71.]\n",
            " [ 29.  89.  66.  91.   0.]]\n"
          ]
        }
      ]
    },
    {
      "cell_type": "code",
      "source": [
        "# Converting Matrix into Labeled DataFrame\n",
        "zone_labels_up = ['A','B','C','D','E']\n",
        "Traffic_Assignment_df = pd.DataFrame(Traffic_Assignment, index = zone_labels_up, columns = zone_labels_up)\n",
        "print(Traffic_Assignment_df)"
      ],
      "metadata": {
        "colab": {
          "base_uri": "https://localhost:8080/"
        },
        "id": "HP8_-mMBvcCm",
        "outputId": "e2c1eae2-6473-4da2-cd55-77266019549d"
      },
      "execution_count": null,
      "outputs": [
        {
          "output_type": "stream",
          "name": "stdout",
          "text": [
            "      A      B      C     D     E\n",
            "A   0.0   25.0   83.0  15.0   7.0\n",
            "B  17.0    0.0   14.0  32.0  17.0\n",
            "C  49.0   24.0    0.0  32.0  16.0\n",
            "D  48.0  130.0  104.0   0.0  71.0\n",
            "E  29.0   89.0   66.0  91.0   0.0\n"
          ]
        }
      ]
    },
    {
      "cell_type": "code",
      "source": [
        "# Defining and Visualizing the Network\n",
        "G = nx.Graph()\n",
        "G.add_nodes_from(zone_labels_up)\n",
        "\n",
        "edges = [\n",
        "    ('A', 'B', {'t0': 10, 'capacity': 1000}),\n",
        "    ('A', 'C', {'t0': 15, 'capacity': 1000}),\n",
        "    ('B', 'C', {'t0': 5,  'capacity': 1000}),\n",
        "    ('B', 'D', {'t0': 20, 'capacity': 800}),\n",
        "    ('C', 'D', {'t0': 10, 'capacity': 800}),\n",
        "    ('C', 'E', {'t0': 25, 'capacity': 600}),\n",
        "    ('D', 'E', {'t0': 10, 'capacity': 600}),\n",
        "    ('E', 'A', {'t0': 30, 'capacity': 500}),\n",
        "]\n",
        "G.add_edges_from(edges)\n",
        "\n",
        "pos = nx.spring_layout(G, seed=42)\n",
        "\n",
        "nx.draw(G, pos, with_labels=True, node_color='lightblue', node_size=800, font_weight='bold')\n",
        "\n",
        "edge_labels = {(u, v): f\"{d['t0']} min / {d['capacity']} veh\" for u, v, d in G.edges(data=True)}\n",
        "nx.draw_networkx_edge_labels(G, pos, edge_labels=edge_labels, font_size=9)\n",
        "\n",
        "plt.title(\"Synthetic Network: Travel Time / Capacity\")\n",
        "plt.show()"
      ],
      "metadata": {
        "colab": {
          "base_uri": "https://localhost:8080/",
          "height": 539
        },
        "id": "3ZiTsXGJwAGk",
        "outputId": "71bf70ad-a5c6-4b70-95b6-334eff861d14"
      },
      "execution_count": null,
      "outputs": [
        {
          "output_type": "display_data",
          "data": {
            "text/plain": [
              "<Figure size 640x480 with 1 Axes>"
            ],
            "image/png": "[encoded data removed]"
          },
          "metadata": {}
        }
      ]
    },
    {
      "cell_type": "code",
      "source": [
        "# All or Nothing Assignment\n",
        "\n",
        "from collections import defaultdict\n",
        "\n",
        "# Initializing edge flow dictionary with default value 0\n",
        "edge_flows = defaultdict(float)\n",
        "\n",
        "for origin in Traffic_Assignment_df.index:\n",
        "    for destination in Traffic_Assignment_df.columns:\n",
        "        if origin != destination:\n",
        "            demand = Traffic_Assignment_df.loc[origin, destination]\n",
        "            path = nx.shortest_path(G, source=origin, target=destination, weight='t0') # Finding shortest path based on travel time\n",
        "            for i in range(len(path) - 1):    # Assigning demand to each edge in the path\n",
        "                u, v = path[i], path[i+1]\n",
        "                edge = tuple(sorted((u, v)))\n",
        "                edge_flows[edge] += demand\n",
        "\n",
        "for edge, flow in edge_flows.items():\n",
        "    print(f\"{edge}: {flow:.1f} vehicles\")"
      ],
      "metadata": {
        "colab": {
          "base_uri": "https://localhost:8080/"
        },
        "id": "kE1xTTvvxAFt",
        "outputId": "7b1da5ef-2ec3-486a-e425-2d5c09c91f56"
      },
      "execution_count": null,
      "outputs": [
        {
          "output_type": "stream",
          "name": "stdout",
          "text": [
            "('A', 'B'): 42.0 vehicles\n",
            "('A', 'C'): 195.0 vehicles\n",
            "('C', 'D'): 549.0 vehicles\n",
            "('A', 'E'): 36.0 vehicles\n",
            "('B', 'C'): 306.0 vehicles\n",
            "('D', 'E'): 350.0 vehicles\n"
          ]
        }
      ]
    },
    {
      "cell_type": "code",
      "source": [
        "pos = nx.spring_layout(G, seed=42)\n",
        "\n",
        "# Using the maximum flow to normalize edge width\n",
        "max_flow = max(edge_flows.values())\n",
        "edge_widths = []\n",
        "\n",
        "# Computing widths for each edge proportional to its flow\n",
        "for u, v in G.edges():\n",
        "    edge = tuple(sorted((u, v)))\n",
        "    flow = edge_flows.get(edge, 0)\n",
        "    width = 1 + (5 * flow / max_flow)\n",
        "    edge_widths.append(width)\n",
        "\n",
        "# Network Visualization\n",
        "nx.draw_networkx_nodes(G, pos, node_color='lightblue', node_size=800)\n",
        "nx.draw_networkx_labels(G, pos, font_weight='bold')\n",
        "\n",
        "nx.draw_networkx_edges(G, pos, width=edge_widths, edge_color='black')\n",
        "\n",
        "edge_labels = {edge: f\"{flow:.0f}\" for edge, flow in edge_flows.items()}\n",
        "nx.draw_networkx_edge_labels(G, pos, edge_labels=edge_labels, font_size=8)\n",
        "\n",
        "plt.title(\"All-or-Nothing Assignment: Edge Flows (veh)\")\n",
        "plt.axis('off')\n",
        "plt.show()\n"
      ],
      "metadata": {
        "colab": {
          "base_uri": "https://localhost:8080/",
          "height": 428
        },
        "id": "rAS5WJUSxNI7",
        "outputId": "8b975a8b-599d-4561-a9f0-37cdf4548bc6"
      },
      "execution_count": null,
      "outputs": [
        {
          "output_type": "display_data",
          "data": {
            "text/plain": [
              "<Figure size 640x480 with 1 Axes>"
            ],
            "image/png": "[encoded data removed]"
          },
          "metadata": {}
        }
      ]
    },
    {
      "cell_type": "markdown",
      "source": [
        "### Summary\n",
        "\n",
        "The all-or-nothing traffic assignment successfully assigns all Auto-mode trips to their shortest paths using travel time as the impedance. The final edge flows reflect total volume across the network. This provides a baseline for evaluating network performance under fixed demand assumptions.\n"
      ],
      "metadata": {
        "id": "3Rb59UEawzk-"
      }
    },
    {
      "cell_type": "markdown",
      "source": [
        "## Final Summary\n",
        "\n",
        "This project demonstrates a complete implementation of the four-step urban transportation planning model using synthetic data for a five-zone city. The model includes:\n",
        "\n",
        "- **Trip Generation** using custom regression equations based on socio-economic indicators.\n",
        "- **Trip Distribution** through a doubly-constrained gravity model with impedance based on travel time.\n",
        "- **Mode Choice** using a simple utility-based logit model to split trips between Auto and Transit.\n",
        "- **Traffic Assignment** with an all-or-nothing approach, allocating Auto trips along shortest-time paths in a synthetic network.\n",
        "\n",
        "All steps are designed to be modular and reproducible, allowing easy experimentation or extension of individual components.\n",
        "\n"
      ],
      "metadata": {
        "id": "X8s3ETOBzTp2"
      }
    }
  ]
}